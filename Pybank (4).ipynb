 {
 "metadata": {
  "language_info": {
   "codemirror_mode": {
    "name": "ipython",
    "version": 3
   },
   "file_extension": ".py",
   "mimetype": "text/x-python",
   "name": "python",
   "nbconvert_exporter": "python",
   "pygments_lexer": "ipython3",
   "version": "3.9.5"
  },
  "orig_nbformat": 2,
  "kernelspec": {
   "name": "python395jvsc74a57bd063fd5069d213b44bf678585dea6b12cceca9941eaf7f819626cde1f2670de90d",
   "display_name": "Python 3.9.5 64-bit"
  },
  "metadata": {
   "interpreter": {
    "hash": "63fd5069d213b44bf678585dea6b12cceca9941eaf7f819626cde1f2670de90d"
   }
  }
 },
 "nbformat": 4,
 "nbformat_minor": 2,
 "cells": [
  {
   "cell_type": "code",
   "execution_count": 9,
   "metadata": {},
   "outputs": [
    {
     "output_type": "stream",
     "name": "stdout",
     "text": [
      "(('Date', 'Profit/Losses'), ('Jan-2010', '867884'), ('Feb-2010', '984655'), ('Mar-2010', '322013'), ('Apr-2010', '-69417'), ('May-2010', '310503'), ('Jun-2010', '522857'), ('Jul-2010', '1033096'), ('Aug-2010', '604885'), ('Sep-2010', '-216386'), ('Oct-2010', '477532'), ('Nov-2010', '893810'), ('Dec-2010', '-80353'), ('Jan-2011', '779806'), ('Feb-2011', '-335203'), ('Mar-2011', '697845'), ('Apr-2011', '793163'), ('May-2011', '485070'), ('Jun-2011', '584122'), ('Jul-2011', '62729'), ('Aug-2011', '668179'), ('Sep-2011', '899906'), ('Oct-2011', '834719'), ('Nov-2011', '132003'), ('Dec-2011', '309978'), ('Jan-2012', '-755566'), ('Feb-2012', '1170593'), ('Mar-2012', '252788'), ('Apr-2012', '1151518'), ('May-2012', '817256'), ('Jun-2012', '570757'), ('Jul-2012', '506702'), ('Aug-2012', '-1022534'), ('Sep-2012', '475062'), ('Oct-2012', '779976'), ('Nov-2012', '144175'), ('Dec-2012', '542494'), ('Jan-2013', '359333'), ('Feb-2013', '321469'), ('Mar-2013', '67780'), ('Apr-2013', '471435'), ('May-2013', '565603'), ('Jun-2013', '872480'), ('Jul-2013', '789480'), ('Aug-2013', '999942'), ('Sep-2013', '-1196225'), ('Oct-2013', '268997'), ('Nov-2013', '-687986'), ('Dec-2013', '1150461'), ('Jan-2014', '682458'), ('Feb-2014', '617856'), ('Mar-2014', '824098'), ('Apr-2014', '581943'), ('May-2014', '132864'), ('Jun-2014', '448062'), ('Jul-2014', '689161'), ('Aug-2014', '800701'), ('Sep-2014', '1166643'), ('Oct-2014', '947333'), ('Nov-2014', '578668'), ('Dec-2014', '988505'), ('Jan-2015', '1139715'), ('Feb-2015', '1029471'), ('Mar-2015', '687533'), ('Apr-2015', '-524626'), ('May-2015', '158620'), ('Jun-2015', '87795'), ('Jul-2015', '423389'), ('Aug-2015', '840723'), ('Sep-2015', '568529'), ('Oct-2015', '332067'), ('Nov-2015', '989499'), ('Dec-2015', '778237'), ('Jan-2016', '650000'), ('Feb-2016', '-1100387'), ('Mar-2016', '-174946'), ('Apr-2016', '757143'), ('May-2016', '445709'), ('Jun-2016', '712961'), ('Jul-2016', '-1163797'), ('Aug-2016', '569899'), ('Sep-2016', '768450'), ('Oct-2016', '102685'), ('Nov-2016', '795914'), ('Dec-2016', '60988'), ('Jan-2017', '138230'), ('Feb-2017', '671099'))\n"
     ]
    }
   ],
   "source": [
    "import csv\n",
    "\n",
    "data = []\n",
    "\n",
    "with open('budget_data.csv', 'r') as f:\n",
    "    reader = csv.reader(f)\n",
    "    for row in reader:\n",
    "        data.append(tuple(row))\n",
    "\n",
    "data = tuple(data)\n",
    "\n",
    "print(data)"
   ]
  },
  {
   "cell_type": "code",
   "execution_count": 19,
   "metadata": {},
   "outputs": [
    {
     "output_type": "stream",
     "name": "stdout",
     "text": [
      "86\n"
     ]
    }
   ],
   "source": [
    "total_months = len(data) - 1\n",
    "\n",
    "print(total_months)"
   ]
  },
  {
   "cell_type": "code",
   "execution_count": 38,
   "metadata": {},
   "outputs": [
    {
     "output_type": "stream",
     "name": "stdout",
     "text": [
      "38382578\n"
     ]
    }
   ],
   "source": [
    "net_profit = 0\n",
    "\n",
    "for month, profit in data[1:87]:\n",
    "    net_profit += int(profit)\n",
    "\n",
    "print(net_profit)"
   ]
  },
  {
   "source": [
    "changes = []\n",
    "i = 0\n",
    "\n",
    "while i < 85:\n",
    "    i += 1\n",
    "    changes.append(int(data[i + 1][1]) - int(data[i][1]))\n",
    "\n",
    "changes = tuple(changes)\n",
    "average_change = sum(changes)/len(changes)\n",
    "\n",
    "print(changes)\n",
    "print(average_change)"
   ],
   "cell_type": "code",
   "metadata": {},
   "execution_count": 'null',
   "outputs": []
  },
  {
   "source": [
    "greatest = changes.index(max(changes))\n",
    "lowest = changes.index(min(changes))\n",
    "\n",
    "greatest = (data[greatest + 2][0], changes[greatest])\n",
    "lowest = (data[lowest + 2][0], changes[lowest])\n",
    "\n",
    "print(greatest)\n",
    "print(lowest)"
   ],
   "cell_type": "code",
   "metadata": {},
   "execution_count": 'null',
   "outputs": []
  },
  {
   "cell_type": "code",
   "execution_count": 'null',
   "metadata": {},
   "outputs": [],
   "source": []
  }
 ]
}